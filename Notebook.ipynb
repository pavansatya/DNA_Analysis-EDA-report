{
 "cells": [
  {
   "cell_type": "code",
   "execution_count": 45,
   "metadata": {},
   "outputs": [],
   "source": [
    "import warnings\n",
    "import pandas as pd  \n",
    "import matplotlib.pyplot as plt\n",
    "import seaborn as sns"
   ]
  },
  {
   "cell_type": "code",
   "execution_count": 46,
   "metadata": {},
   "outputs": [
    {
     "data": {
      "text/html": [
       "<div>\n",
       "<style scoped>\n",
       "    .dataframe tbody tr th:only-of-type {\n",
       "        vertical-align: middle;\n",
       "    }\n",
       "\n",
       "    .dataframe tbody tr th {\n",
       "        vertical-align: top;\n",
       "    }\n",
       "\n",
       "    .dataframe thead th {\n",
       "        text-align: right;\n",
       "    }\n",
       "</style>\n",
       "<table border=\"1\" class=\"dataframe\">\n",
       "  <thead>\n",
       "    <tr style=\"text-align: right;\">\n",
       "      <th></th>\n",
       "      <th>Unnamed: 0</th>\n",
       "      <th>prospectid</th>\n",
       "      <th>ordernumber</th>\n",
       "      <th>ordercreatedate</th>\n",
       "      <th>regtenure</th>\n",
       "      <th>customer_type_group</th>\n",
       "      <th>dnatestactivationdayid</th>\n",
       "      <th>daystogetresult_grp</th>\n",
       "      <th>dna_visittrafficsubtype</th>\n",
       "      <th>xsell_gsa</th>\n",
       "      <th>xsell_day_exact</th>\n",
       "    </tr>\n",
       "  </thead>\n",
       "  <tbody>\n",
       "    <tr>\n",
       "      <th>0</th>\n",
       "      <td>1</td>\n",
       "      <td>93771712</td>\n",
       "      <td>127707306</td>\n",
       "      <td>2014-11-28</td>\n",
       "      <td>More than 120 days old</td>\n",
       "      <td>Existing Reg</td>\n",
       "      <td>2014-12-10</td>\n",
       "      <td>4 weeks</td>\n",
       "      <td>NaN</td>\n",
       "      <td>1</td>\n",
       "      <td>38.0</td>\n",
       "    </tr>\n",
       "    <tr>\n",
       "      <th>1</th>\n",
       "      <td>2</td>\n",
       "      <td>123112555</td>\n",
       "      <td>114401425</td>\n",
       "      <td>2013-12-05</td>\n",
       "      <td>Order prior to reg</td>\n",
       "      <td>New Reg</td>\n",
       "      <td>2014-01-13</td>\n",
       "      <td>4 weeks</td>\n",
       "      <td>NaN</td>\n",
       "      <td>1</td>\n",
       "      <td>40.0</td>\n",
       "    </tr>\n",
       "    <tr>\n",
       "      <th>2</th>\n",
       "      <td>3</td>\n",
       "      <td>171965960</td>\n",
       "      <td>159656050</td>\n",
       "      <td>2016-11-25</td>\n",
       "      <td>Order prior to reg</td>\n",
       "      <td>New Reg</td>\n",
       "      <td>NaN</td>\n",
       "      <td>-1</td>\n",
       "      <td>Paid Search Non Brand</td>\n",
       "      <td>0</td>\n",
       "      <td>NaN</td>\n",
       "    </tr>\n",
       "    <tr>\n",
       "      <th>3</th>\n",
       "      <td>4</td>\n",
       "      <td>175522116</td>\n",
       "      <td>165370285</td>\n",
       "      <td>2017-03-08</td>\n",
       "      <td>&lt;=60 days</td>\n",
       "      <td>Existing Reg</td>\n",
       "      <td>NaN</td>\n",
       "      <td>-1</td>\n",
       "      <td>Email Programs</td>\n",
       "      <td>0</td>\n",
       "      <td>NaN</td>\n",
       "    </tr>\n",
       "    <tr>\n",
       "      <th>4</th>\n",
       "      <td>5</td>\n",
       "      <td>149288086</td>\n",
       "      <td>132837125</td>\n",
       "      <td>2015-03-30</td>\n",
       "      <td>Order prior to reg</td>\n",
       "      <td>New Reg</td>\n",
       "      <td>2015-04-06</td>\n",
       "      <td>4 weeks</td>\n",
       "      <td>NaN</td>\n",
       "      <td>0</td>\n",
       "      <td>NaN</td>\n",
       "    </tr>\n",
       "  </tbody>\n",
       "</table>\n",
       "</div>"
      ],
      "text/plain": [
       "   Unnamed: 0  prospectid  ordernumber ordercreatedate   \n",
       "0           1    93771712    127707306      2014-11-28  \\\n",
       "1           2   123112555    114401425      2013-12-05   \n",
       "2           3   171965960    159656050      2016-11-25   \n",
       "3           4   175522116    165370285      2017-03-08   \n",
       "4           5   149288086    132837125      2015-03-30   \n",
       "\n",
       "                regtenure customer_type_group dnatestactivationdayid   \n",
       "0  More than 120 days old        Existing Reg             2014-12-10  \\\n",
       "1      Order prior to reg             New Reg             2014-01-13   \n",
       "2      Order prior to reg             New Reg                    NaN   \n",
       "3               <=60 days        Existing Reg                    NaN   \n",
       "4      Order prior to reg             New Reg             2015-04-06   \n",
       "\n",
       "  daystogetresult_grp dna_visittrafficsubtype  xsell_gsa  xsell_day_exact  \n",
       "0             4 weeks                     NaN          1             38.0  \n",
       "1             4 weeks                     NaN          1             40.0  \n",
       "2                  -1   Paid Search Non Brand          0              NaN  \n",
       "3                  -1          Email Programs          0              NaN  \n",
       "4             4 weeks                     NaN          0              NaN  "
      ]
     },
     "execution_count": 46,
     "metadata": {},
     "output_type": "execute_result"
    }
   ],
   "source": [
    "data = pd.read_csv(\"take-home_exercise_data.csv\")\n",
    "data.head()"
   ]
  },
  {
   "cell_type": "code",
   "execution_count": 59,
   "metadata": {},
   "outputs": [
    {
     "data": {
      "text/plain": [
       "array(['4 weeks', '-1', '6 weeks', '5 weeks', '3 weeks', '7 weeks',\n",
       "       '10 weeks', '2 weeks', '>10weeks', '9 weeks', '8 weeks', '1 week'],\n",
       "      dtype=object)"
      ]
     },
     "execution_count": 59,
     "metadata": {},
     "output_type": "execute_result"
    }
   ],
   "source": [
    "data.daystogetresult_grp.unique()"
   ]
  },
  {
   "cell_type": "code",
   "execution_count": 47,
   "metadata": {},
   "outputs": [
    {
     "data": {
      "text/plain": [
       "Unnamed: 0                      0\n",
       "prospectid                      0\n",
       "ordernumber                     0\n",
       "ordercreatedate                 0\n",
       "regtenure                       0\n",
       "customer_type_group             0\n",
       "dnatestactivationdayid      73097\n",
       "daystogetresult_grp             0\n",
       "dna_visittrafficsubtype     62849\n",
       "xsell_gsa                       0\n",
       "xsell_day_exact            211363\n",
       "dtype: int64"
      ]
     },
     "execution_count": 47,
     "metadata": {},
     "output_type": "execute_result"
    }
   ],
   "source": [
    "data.isna().sum()"
   ]
  },
  {
   "attachments": {},
   "cell_type": "markdown",
   "metadata": {},
   "source": [
    "# Exploratory Data Analysis"
   ]
  },
  {
   "cell_type": "code",
   "execution_count": 48,
   "metadata": {},
   "outputs": [
    {
     "name": "stdout",
     "output_type": "stream",
     "text": [
      "<class 'pandas.core.frame.DataFrame'>\n",
      "RangeIndex: 251942 entries, 0 to 251941\n",
      "Data columns (total 11 columns):\n",
      " #   Column                   Non-Null Count   Dtype  \n",
      "---  ------                   --------------   -----  \n",
      " 0   Unnamed: 0               251942 non-null  int64  \n",
      " 1   prospectid               251942 non-null  int64  \n",
      " 2   ordernumber              251942 non-null  int64  \n",
      " 3   ordercreatedate          251942 non-null  object \n",
      " 4   regtenure                251942 non-null  object \n",
      " 5   customer_type_group      251942 non-null  object \n",
      " 6   dnatestactivationdayid   178845 non-null  object \n",
      " 7   daystogetresult_grp      251942 non-null  object \n",
      " 8   dna_visittrafficsubtype  189093 non-null  object \n",
      " 9   xsell_gsa                251942 non-null  int64  \n",
      " 10  xsell_day_exact          40579 non-null   float64\n",
      "dtypes: float64(1), int64(4), object(6)\n",
      "memory usage: 21.1+ MB\n"
     ]
    }
   ],
   "source": [
    "data.info()"
   ]
  },
  {
   "attachments": {},
   "cell_type": "markdown",
   "metadata": {},
   "source": [
    "So, we can see that there are six object data types which we need to convert into int data types"
   ]
  },
  {
   "cell_type": "code",
   "execution_count": 49,
   "metadata": {},
   "outputs": [],
   "source": [
    "data['Date'] = data.ordercreatedate.apply(lambda x: x.split('-')[2])\n",
    "data['Month'] = data.ordercreatedate.apply(lambda x: x.split('-')[1])\n",
    "data['Year'] = data.ordercreatedate.apply(lambda x: x.split('-')[0])\n",
    "data['Date'] = data['Date'].astype(int)\n",
    "data['Month'] = data['Month'].astype(int)\n",
    "data['Year'] = data['Year'].astype(int)"
   ]
  },
  {
   "cell_type": "code",
   "execution_count": 50,
   "metadata": {},
   "outputs": [],
   "source": [
    "data = data.drop('ordercreatedate', axis=1)"
   ]
  },
  {
   "cell_type": "code",
   "execution_count": 51,
   "metadata": {},
   "outputs": [
    {
     "data": {
      "image/png": "[encoded data removed]",
      "text/plain": [
       "<Figure size 576x432 with 1 Axes>"
      ]
     },
     "metadata": {
      "needs_background": "light"
     },
     "output_type": "display_data"
    }
   ],
   "source": [
    "value_counts = data.customer_type_group.value_counts()\n",
    "plt.figure(figsize=(8, 6))\n",
    "colors = {'Existing Reg': 'red', 'New Reg': 'green', 'Acom Sub': 'blue'}\n",
    "value_counts.plot(kind='bar', color=[colors[key] for key in value_counts.index])\n",
    "\n",
    "\n",
    "plt.title('Distribution of type of customers')\n",
    "plt.xlabel('Types of customers')\n",
    "plt.ylabel('Count')\n",
    "\n",
    "plt.grid(axis='y')\n",
    "plt.show()"
   ]
  },
  {
   "cell_type": "code",
   "execution_count": 52,
   "metadata": {},
   "outputs": [
    {
     "data": {
      "text/html": [
       "<div>\n",
       "<style scoped>\n",
       "    .dataframe tbody tr th:only-of-type {\n",
       "        vertical-align: middle;\n",
       "    }\n",
       "\n",
       "    .dataframe tbody tr th {\n",
       "        vertical-align: top;\n",
       "    }\n",
       "\n",
       "    .dataframe thead th {\n",
       "        text-align: right;\n",
       "    }\n",
       "</style>\n",
       "<table border=\"1\" class=\"dataframe\">\n",
       "  <thead>\n",
       "    <tr style=\"text-align: right;\">\n",
       "      <th></th>\n",
       "      <th>Unnamed: 0</th>\n",
       "      <th>prospectid</th>\n",
       "      <th>ordernumber</th>\n",
       "      <th>xsell_gsa</th>\n",
       "      <th>xsell_day_exact</th>\n",
       "      <th>Date</th>\n",
       "      <th>Month</th>\n",
       "      <th>Year</th>\n",
       "    </tr>\n",
       "  </thead>\n",
       "  <tbody>\n",
       "    <tr>\n",
       "      <th>count</th>\n",
       "      <td>251942.000000</td>\n",
       "      <td>2.519420e+05</td>\n",
       "      <td>2.519420e+05</td>\n",
       "      <td>251942.000000</td>\n",
       "      <td>40579.000000</td>\n",
       "      <td>251942.000000</td>\n",
       "      <td>251942.000000</td>\n",
       "      <td>251942.000000</td>\n",
       "    </tr>\n",
       "    <tr>\n",
       "      <th>mean</th>\n",
       "      <td>125971.500000</td>\n",
       "      <td>1.144561e+08</td>\n",
       "      <td>1.455821e+08</td>\n",
       "      <td>0.161065</td>\n",
       "      <td>140.674043</td>\n",
       "      <td>16.471176</td>\n",
       "      <td>7.119583</td>\n",
       "      <td>2015.438462</td>\n",
       "    </tr>\n",
       "    <tr>\n",
       "      <th>std</th>\n",
       "      <td>72729.535098</td>\n",
       "      <td>5.277515e+07</td>\n",
       "      <td>1.752503e+07</td>\n",
       "      <td>0.367591</td>\n",
       "      <td>668.588251</td>\n",
       "      <td>8.975839</td>\n",
       "      <td>3.835034</td>\n",
       "      <td>1.419499</td>\n",
       "    </tr>\n",
       "    <tr>\n",
       "      <th>min</th>\n",
       "      <td>1.000000</td>\n",
       "      <td>7.600000e+02</td>\n",
       "      <td>9.592366e+07</td>\n",
       "      <td>0.000000</td>\n",
       "      <td>0.000000</td>\n",
       "      <td>1.000000</td>\n",
       "      <td>1.000000</td>\n",
       "      <td>1900.000000</td>\n",
       "    </tr>\n",
       "    <tr>\n",
       "      <th>25%</th>\n",
       "      <td>62986.250000</td>\n",
       "      <td>7.189144e+07</td>\n",
       "      <td>1.356459e+08</td>\n",
       "      <td>0.000000</td>\n",
       "      <td>0.000000</td>\n",
       "      <td>9.000000</td>\n",
       "      <td>3.000000</td>\n",
       "      <td>2015.000000</td>\n",
       "    </tr>\n",
       "    <tr>\n",
       "      <th>50%</th>\n",
       "      <td>125971.500000</td>\n",
       "      <td>1.243254e+08</td>\n",
       "      <td>1.504135e+08</td>\n",
       "      <td>0.000000</td>\n",
       "      <td>22.000000</td>\n",
       "      <td>17.000000</td>\n",
       "      <td>7.000000</td>\n",
       "      <td>2016.000000</td>\n",
       "    </tr>\n",
       "    <tr>\n",
       "      <th>75%</th>\n",
       "      <td>188956.750000</td>\n",
       "      <td>1.649072e+08</td>\n",
       "      <td>1.599612e+08</td>\n",
       "      <td>0.000000</td>\n",
       "      <td>100.000000</td>\n",
       "      <td>25.000000</td>\n",
       "      <td>11.000000</td>\n",
       "      <td>2016.000000</td>\n",
       "    </tr>\n",
       "    <tr>\n",
       "      <th>max</th>\n",
       "      <td>251942.000000</td>\n",
       "      <td>1.795105e+08</td>\n",
       "      <td>1.667366e+08</td>\n",
       "      <td>1.000000</td>\n",
       "      <td>42302.000000</td>\n",
       "      <td>31.000000</td>\n",
       "      <td>12.000000</td>\n",
       "      <td>2017.000000</td>\n",
       "    </tr>\n",
       "  </tbody>\n",
       "</table>\n",
       "</div>"
      ],
      "text/plain": [
       "          Unnamed: 0    prospectid   ordernumber      xsell_gsa   \n",
       "count  251942.000000  2.519420e+05  2.519420e+05  251942.000000  \\\n",
       "mean   125971.500000  1.144561e+08  1.455821e+08       0.161065   \n",
       "std     72729.535098  5.277515e+07  1.752503e+07       0.367591   \n",
       "min         1.000000  7.600000e+02  9.592366e+07       0.000000   \n",
       "25%     62986.250000  7.189144e+07  1.356459e+08       0.000000   \n",
       "50%    125971.500000  1.243254e+08  1.504135e+08       0.000000   \n",
       "75%    188956.750000  1.649072e+08  1.599612e+08       0.000000   \n",
       "max    251942.000000  1.795105e+08  1.667366e+08       1.000000   \n",
       "\n",
       "       xsell_day_exact           Date          Month           Year  \n",
       "count     40579.000000  251942.000000  251942.000000  251942.000000  \n",
       "mean        140.674043      16.471176       7.119583    2015.438462  \n",
       "std         668.588251       8.975839       3.835034       1.419499  \n",
       "min           0.000000       1.000000       1.000000    1900.000000  \n",
       "25%           0.000000       9.000000       3.000000    2015.000000  \n",
       "50%          22.000000      17.000000       7.000000    2016.000000  \n",
       "75%         100.000000      25.000000      11.000000    2016.000000  \n",
       "max       42302.000000      31.000000      12.000000    2017.000000  "
      ]
     },
     "execution_count": 52,
     "metadata": {},
     "output_type": "execute_result"
    }
   ],
   "source": [
    "data.describe()"
   ]
  },
  {
   "attachments": {},
   "cell_type": "markdown",
   "metadata": {},
   "source": [
    "Based on this function we can say that mean, standard deviation in 'xsell_day_exact' have a very large difference, which indicates the column data is spread much wide.\n",
    "\n",
    "The maximum value is very large compared with mean, which indicates there can be a outlier"
   ]
  },
  {
   "attachments": {},
   "cell_type": "markdown",
   "metadata": {},
   "source": [
    "# Cross-Sell vs Non Cross-Sell"
   ]
  },
  {
   "attachments": {},
   "cell_type": "markdown",
   "metadata": {},
   "source": [
    "We consider a customer to be a cross sell (from DNA to ACOM subscription) when the\n",
    "following conditions are met in the data:"
   ]
  },
  {
   "cell_type": "code",
   "execution_count": 53,
   "metadata": {},
   "outputs": [],
   "source": [
    "mask = (data.xsell_gsa == 1) & (data.xsell_day_exact <= 120)\n",
    "cross_sell_data = data[mask]\n"
   ]
  },
  {
   "cell_type": "code",
   "execution_count": 54,
   "metadata": {},
   "outputs": [
    {
     "data": {
      "image/png": "[encoded data removed]",
      "text/plain": [
       "<Figure size 720x432 with 1 Axes>"
      ]
     },
     "metadata": {
      "needs_background": "light"
     },
     "output_type": "display_data"
    }
   ],
   "source": [
    "# Creating a new column 'is_cross_sell' to indicate whether a customer is a cross-sell or not\n",
    "data['is_cross_sell'] = (mask).astype(int)\n",
    "\n",
    "# Plotting the distribution of customers who are cross-sell and who are not\n",
    "plt.figure(figsize=(10, 6))\n",
    "sns.countplot(x='is_cross_sell', data=data)\n",
    "plt.title('Distribution of Customers: Cross-Sell vs Non Cross-Sell')\n",
    "plt.xlabel('Is Cross-Sell')\n",
    "plt.ylabel('Count')\n",
    "plt.xticks([0, 1], ['Not Cross-Sell', 'Cross-Sell'])\n",
    "plt.show()"
   ]
  },
  {
   "attachments": {},
   "cell_type": "markdown",
   "metadata": {},
   "source": [
    "What fraction of the observed customers cross-sell to subscription?"
   ]
  },
  {
   "cell_type": "code",
   "execution_count": 55,
   "metadata": {},
   "outputs": [
    {
     "name": "stdout",
     "output_type": "stream",
     "text": [
      "The percentage is: 12.39%\n"
     ]
    }
   ],
   "source": [
    "Percentage = len(cross_sell_data)/len(data) * 100\n",
    "print(f\"The percentage is: {Percentage:.2f}%\")"
   ]
  },
  {
   "attachments": {},
   "cell_type": "markdown",
   "metadata": {},
   "source": [
    "dna_visittrafficsubtype - DNA Traffic visit channel, example: ‘Paid Search Non\n",
    "Brand’\n",
    "\n",
    "There are a lot of null values in 'dna_visittrafficsubtype' column, so we fill them with 'unknown source' as we don't how the customer got to know about the product"
   ]
  },
  {
   "cell_type": "code",
   "execution_count": 56,
   "metadata": {},
   "outputs": [
    {
     "name": "stdout",
     "output_type": "stream",
     "text": [
      "dna_visittrafficsubtype\n",
      "unknown source                              62849\n",
      "direct core homepage                        39719\n",
      "paid search – dna brand                     20905\n",
      "Email Campaigns                             20081\n",
      "Paid Search Non Brand                       13400\n",
      "internal referrals                          12296\n",
      "direct non-homepage                         12288\n",
      "paid search – core brand                    10425\n",
      "organic dna brand                            9205\n",
      "Email Programs                               8642\n",
      "direct dna homepage                          7610\n",
      "email no source id                           6693\n",
      "organic core brand                           6341\n",
      "External Paid Media                          4911\n",
      "Affiliate External                           4066\n",
      "organic nonbrand                             3569\n",
      "geo-redirect                                 1536\n",
      "iOS App                                      1534\n",
      "Paid Search GDN                              1348\n",
      "content marketing                            1114\n",
      "social media organic                         1101\n",
      "external referrals                            807\n",
      "Direct Mail                                   355\n",
      "Social                                        269\n",
      "Web Property                                  167\n",
      "Partners                                      155\n",
      "Search                                        108\n",
      "Radio Brand/PR                                 92\n",
      "Android App                                    67\n",
      "Digital Video                                  63\n",
      "FindAGrave                                     37\n",
      "Direct                                         37\n",
      "Social Media Natural                           30\n",
      "Telemarketing Other (short term 8/31/05)       30\n",
      "Windows App                                    26\n",
      "Inbound                                        13\n",
      "External Email                                 12\n",
      "DNA App                                         9\n",
      "Display                                         9\n",
      "FTM Software Integration                        6\n",
      "TV Brand/PR                                     5\n",
      "Mobile                                          3\n",
      "Feeders                                         3\n",
      "Biz Dev                                         2\n",
      "Overlays                                        2\n",
      "Library/Assoc.                                  1\n",
      "Kiosk                                           1\n",
      "Name: count, dtype: int64\n"
     ]
    }
   ],
   "source": [
    "data.dna_visittrafficsubtype.fillna('unknown source', inplace=True)\n",
    "value_counts = data.dna_visittrafficsubtype.value_counts()\n",
    "\n",
    "# Display the counts\n",
    "print(value_counts)"
   ]
  },
  {
   "attachments": {},
   "cell_type": "markdown",
   "metadata": {},
   "source": [
    "This is a plot to view top ten types of campaigns brought more traffic "
   ]
  },
  {
   "cell_type": "code",
   "execution_count": 57,
   "metadata": {},
   "outputs": [
    {
     "data": {
      "image/png": "[encoded data removed]",
      "text/plain": [
       "<Figure size 432x288 with 1 Axes>"
      ]
     },
     "metadata": {},
     "output_type": "display_data"
    }
   ],
   "source": [
    "Campaign_type = data.dna_visittrafficsubtype.value_counts().index   #prints unique index values of the Column [Country]\n",
    "Val_count = data.dna_visittrafficsubtype.value_counts().values\n",
    "plt.pie(Val_count[:10], labels=Campaign_type[:10],autopct='%.2f%%')\n",
    "plt.gca().set_facecolor('white')"
   ]
  },
  {
   "attachments": {},
   "cell_type": "markdown",
   "metadata": {},
   "source": [
    "There is a suggestion I would like to make on this data\n",
    "\n",
    "So, We need to check how many customers are above 120 days and below 180 days time period (The time period is upto us based on the number of customers in that time period), then there is a pretty good chance that we could covert them into cross-sell customers. "
   ]
  },
  {
   "cell_type": "code",
   "execution_count": 58,
   "metadata": {},
   "outputs": [
    {
     "data": {
      "text/plain": [
       "1397"
      ]
     },
     "execution_count": 58,
     "metadata": {},
     "output_type": "execute_result"
    }
   ],
   "source": [
    "counts = data[(data.xsell_day_exact < 180) & (data.xsell_day_exact > 120)] \n",
    "len(counts)"
   ]
  }
 ],
 "metadata": {
  "kernelspec": {
   "display_name": "Python 3",
   "language": "python",
   "name": "python3"
  },
  "language_info": {
   "codemirror_mode": {
    "name": "ipython",
    "version": 3
   },
   "file_extension": ".py",
   "mimetype": "text/x-python",
   "name": "python",
   "nbconvert_exporter": "python",
   "pygments_lexer": "ipython3",
   "version": "3.10.0"
  },
  "orig_nbformat": 4
 },
 "nbformat": 4,
 "nbformat_minor": 2
}
